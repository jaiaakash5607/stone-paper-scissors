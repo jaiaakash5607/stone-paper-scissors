{
 "cells": [
  {
   "cell_type": "code",
   "execution_count": 18,
   "id": "7af68d53-36b7-4751-93b5-7845622f8bc0",
   "metadata": {},
   "outputs": [
    {
     "name": "stdout",
     "output_type": "stream",
     "text": [
      "wellcome to a game of ROCK,PAPER,SCISSORS\n",
      "you will play with alzo\n"
     ]
    },
    {
     "name": "stdin",
     "output_type": "stream",
     "text": [
      "how many time do you want to play: 1\n"
     ]
    },
    {
     "name": "stdout",
     "output_type": "stream",
     "text": [
      "1.ROCK\n",
      "2.PAPER\n",
      "3.SCISSORS\n"
     ]
    },
    {
     "name": "stdin",
     "output_type": "stream",
     "text": [
      "enter your choose: 2\n"
     ]
    },
    {
     "name": "stdout",
     "output_type": "stream",
     "text": [
      "your=PAPER\n",
      "alzo=SCISSORS\n",
      "you loss\n"
     ]
    }
   ],
   "source": [
    "import random as rd\n",
    "print(\"wellcome to a game of ROCK,PAPER,SCISSORS\")\n",
    "print(\"you will play with alzo\")\n",
    "n=int(input(\"how many time do you want to play:\"))\n",
    "for i in range(n):\n",
    "    print(\"1.ROCK\")\n",
    "    print(\"2.PAPER\")\n",
    "    print(\"3.SCISSORS\")\n",
    "    choose=int(input(\"enter your choose:\"))\n",
    "    if choose==1:\n",
    "        print(\"your=ROCK\")\n",
    "    elif choose==2:\n",
    "        print(\"your=PAPER\")\n",
    "    if choose==3:\n",
    "        print(\"your=SCISSORS\")\n",
    "    alzo=rd.randint(1,3)\n",
    "    if alzo==1:\n",
    "        print(\"alzo=ROCK\")\n",
    "    if alzo==2:\n",
    "        print(\"alzo=PAPER\")\n",
    "    if alzo==3:\n",
    "        print(\"alzo=SCISSORS\")\n",
    "    if alzo==1 and choose==2:\n",
    "        print(\"you win\")\n",
    "    if alzo==2 and choose==3:\n",
    "        print(\"you win\")\n",
    "    if alzo==3 and choose==1:\n",
    "        print(\"you win\")\n",
    "    if alzo==2 and choose==1:\n",
    "        print(\"you loss\")\n",
    "    if alzo==3 and choose==2:\n",
    "        print(\"you loss\")\n",
    "    if alzo==1 and choose==3:\n",
    "        print(\"you loss\")\n",
    "    if alzo==choose:\n",
    "        print(\"it is a draw\")"
   ]
  },
  {
   "cell_type": "code",
   "execution_count": null,
   "id": "cef38d86-7578-4e55-8a31-4aaa02ca8b86",
   "metadata": {},
   "outputs": [],
   "source": []
  }
 ],
 "metadata": {
  "kernelspec": {
   "display_name": "Python 3 (ipykernel)",
   "language": "python",
   "name": "python3"
  },
  "language_info": {
   "codemirror_mode": {
    "name": "ipython",
    "version": 3
   },
   "file_extension": ".py",
   "mimetype": "text/x-python",
   "name": "python",
   "nbconvert_exporter": "python",
   "pygments_lexer": "ipython3",
   "version": "3.12.4"
  }
 },
 "nbformat": 4,
 "nbformat_minor": 5
}
